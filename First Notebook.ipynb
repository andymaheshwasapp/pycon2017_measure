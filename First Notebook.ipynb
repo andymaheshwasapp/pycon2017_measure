{
 "cells": [
  {
   "cell_type": "markdown",
   "metadata": {},
   "source": [
    "First thing is to run pystone3.py on a laptop to benchmark"
   ]
  },
  {
   "cell_type": "markdown",
   "metadata": {},
   "source": [
    " Profiling CPU"
   ]
  },
  {
   "cell_type": "code",
   "execution_count": 13,
   "metadata": {
    "collapsed": false
   },
   "outputs": [
    {
     "name": "stdout",
     "output_type": "stream",
     "text": [
      "/Users/andymaheshw/pycon2017_measure/measuring\n"
     ]
    }
   ],
   "source": [
    "%cd measuring/"
   ]
  },
  {
   "cell_type": "code",
   "execution_count": 15,
   "metadata": {
    "collapsed": false
   },
   "outputs": [],
   "source": [
    "# %load profile_me.py\n",
    "# file profile_me.py\n",
    "\n",
    "\"\"\"Example to be profiled.\n",
    "\"\"\"\n",
    "import sys\n",
    "import time\n",
    "\n",
    "if sys.version_info.major < 3:\n",
    "    range = xrange\n",
    "\n",
    "\n",
    "def fast():\n",
    "    \"\"\"Wait 0.001 seconds.\n",
    "    \"\"\"\n",
    "    time.sleep(1e-3)\n",
    "\n",
    "\n",
    "def slow():\n",
    "    \"\"\"Wait 0.1 seconds.\n",
    "    \"\"\"\n",
    "    time.sleep(0.1)\n",
    "\n",
    "\n",
    "def use_fast():\n",
    "    \"\"\"Call `fast` 100 times.\n",
    "    \"\"\"\n",
    "    for _ in range(100):\n",
    "        fast()\n",
    "\n",
    "\n",
    "def use_slow():\n",
    "    \"\"\"Call `slow` 100 times.\n",
    "    \"\"\"\n",
    "    for _ in range(100):\n",
    "        slow()\n",
    "\n",
    "\n",
    "if __name__ == '__main__':\n",
    "    use_fast()\n",
    "    use_slow()\n"
   ]
  },
  {
   "cell_type": "code",
   "execution_count": 16,
   "metadata": {
    "collapsed": true
   },
   "outputs": [],
   "source": [
    "import cProfile"
   ]
  },
  {
   "cell_type": "code",
   "execution_count": 17,
   "metadata": {
    "collapsed": true
   },
   "outputs": [],
   "source": [
    "profile = cProfile.Profile()"
   ]
  },
  {
   "cell_type": "code",
   "execution_count": 19,
   "metadata": {
    "collapsed": false
   },
   "outputs": [],
   "source": [
    "profile.runcall(use_fast)"
   ]
  },
  {
   "cell_type": "code",
   "execution_count": 20,
   "metadata": {
    "collapsed": false
   },
   "outputs": [
    {
     "name": "stdout",
     "output_type": "stream",
     "text": [
      "         202 function calls in 0.130 seconds\n",
      "\n",
      "   Ordered by: standard name\n",
      "\n",
      "   ncalls  tottime  percall  cumtime  percall filename:lineno(function)\n",
      "      100    0.001    0.000    0.130    0.001 <ipython-input-15-31b8b4df29c5>:13(fast)\n",
      "        1    0.000    0.000    0.130    0.130 <ipython-input-15-31b8b4df29c5>:25(use_fast)\n",
      "      100    0.129    0.001    0.129    0.001 {built-in method time.sleep}\n",
      "        1    0.000    0.000    0.000    0.000 {method 'disable' of '_lsprof.Profiler' objects}\n",
      "\n",
      "\n"
     ]
    }
   ],
   "source": [
    "profile.print_stats()"
   ]
  },
  {
   "cell_type": "code",
   "execution_count": 21,
   "metadata": {
    "collapsed": true
   },
   "outputs": [],
   "source": [
    "cProfile.run('use_fast()', 'fast.stats')"
   ]
  },
  {
   "cell_type": "code",
   "execution_count": 24,
   "metadata": {
    "collapsed": false
   },
   "outputs": [
    {
     "name": "stdout",
     "output_type": "stream",
     "text": [
      "fast.stats\r\n"
     ]
    }
   ],
   "source": [
    "%ls *.stats"
   ]
  },
  {
   "cell_type": "code",
   "execution_count": 25,
   "metadata": {
    "collapsed": true
   },
   "outputs": [],
   "source": [
    "import pstats"
   ]
  },
  {
   "cell_type": "code",
   "execution_count": 26,
   "metadata": {
    "collapsed": true
   },
   "outputs": [],
   "source": [
    "stats = pstats.Stats('fast.stats')"
   ]
  },
  {
   "cell_type": "code",
   "execution_count": 32,
   "metadata": {
    "collapsed": false
   },
   "outputs": [
    {
     "name": "stdout",
     "output_type": "stream",
     "text": [
      "Thu May 18 09:44:46 2017    fast.stats\n",
      "\n",
      "         204 function calls in 0.132 seconds\n",
      "\n",
      "   Random listing order was used\n",
      "\n",
      "   ncalls  tottime  percall  cumtime  percall filename:lineno(function)\n",
      "        1    0.000    0.000    0.000    0.000 {method 'disable' of '_lsprof.Profiler' objects}\n",
      "        1    0.000    0.000    0.132    0.132 <string>:1(<module>)\n",
      "      100    0.131    0.001    0.131    0.001 {built-in method time.sleep}\n",
      "        1    0.000    0.000    0.132    0.132 <ipython-input-15-31b8b4df29c5>:25(use_fast)\n",
      "      100    0.001    0.000    0.131    0.001 <ipython-input-15-31b8b4df29c5>:13(fast)\n",
      "        1    0.000    0.000    0.132    0.132 {built-in method builtins.exec}\n",
      "\n",
      "\n"
     ]
    },
    {
     "data": {
      "text/plain": [
       "<pstats.Stats at 0x10ae71be0>"
      ]
     },
     "execution_count": 32,
     "metadata": {},
     "output_type": "execute_result"
    }
   ],
   "source": [
    "stats.print_stats()"
   ]
  },
  {
   "cell_type": "code",
   "execution_count": 33,
   "metadata": {
    "collapsed": false
   },
   "outputs": [
    {
     "name": "stdout",
     "output_type": "stream",
     "text": [
      "   Random listing order was used\n",
      "\n",
      "Function                                          was called by...\n",
      "                                                      ncalls  tottime  cumtime\n",
      "{method 'disable' of '_lsprof.Profiler' objects}  <- \n",
      "<string>:1(<module>)                              <-       1    0.000    0.132  {built-in method builtins.exec}\n",
      "{built-in method time.sleep}                      <-     100    0.131    0.131  <ipython-input-15-31b8b4df29c5>:13(fast)\n",
      "<ipython-input-15-31b8b4df29c5>:25(use_fast)      <-       1    0.000    0.132  <string>:1(<module>)\n",
      "<ipython-input-15-31b8b4df29c5>:13(fast)          <-     100    0.001    0.131  <ipython-input-15-31b8b4df29c5>:25(use_fast)\n",
      "{built-in method builtins.exec}                   <- \n",
      "\n",
      "\n"
     ]
    },
    {
     "data": {
      "text/plain": [
       "<pstats.Stats at 0x10ae71be0>"
      ]
     },
     "execution_count": 33,
     "metadata": {},
     "output_type": "execute_result"
    }
   ],
   "source": [
    "stats.print_callers()"
   ]
  },
  {
   "cell_type": "code",
   "execution_count": 34,
   "metadata": {
    "collapsed": false
   },
   "outputs": [
    {
     "name": "stdout",
     "output_type": "stream",
     "text": [
      "   Random listing order was used\n",
      "   List reduced from 6 to 1 due to restriction <'use_fast'>\n",
      "\n",
      "Function                                      called...\n",
      "                                                  ncalls  tottime  cumtime\n",
      "<ipython-input-15-31b8b4df29c5>:25(use_fast)  ->     100    0.001    0.131  <ipython-input-15-31b8b4df29c5>:13(fast)\n",
      "\n",
      "\n"
     ]
    },
    {
     "data": {
      "text/plain": [
       "<pstats.Stats at 0x10ae71be0>"
      ]
     },
     "execution_count": 34,
     "metadata": {},
     "output_type": "execute_result"
    }
   ],
   "source": [
    "stats.print_callees('use_fast')"
   ]
  },
  {
   "cell_type": "code",
   "execution_count": 36,
   "metadata": {
    "collapsed": false
   },
   "outputs": [
    {
     "name": "stdout",
     "output_type": "stream",
     "text": [
      " "
     ]
    }
   ],
   "source": [
    "%prun use_fast()"
   ]
  },
  {
   "cell_type": "code",
   "execution_count": 38,
   "metadata": {
    "collapsed": false
   },
   "outputs": [],
   "source": [
    "%prun?"
   ]
  },
  {
   "cell_type": "code",
   "execution_count": 40,
   "metadata": {
    "collapsed": false
   },
   "outputs": [
    {
     "name": "stdout",
     "output_type": "stream",
     "text": [
      "durtation_os_time0:      0.030000000000000027\n",
      "durtation_time_clock:    0.03408499999999992\n",
      "durtation_default_timer: 1.038308375995257\n"
     ]
    }
   ],
   "source": [
    "# %load clock_check.py\n",
    "# file: measuring/clock_check.py\n",
    "\n",
    "\"\"\"Checking different timing functions.\n",
    "\"\"\"\n",
    "\n",
    "from __future__ import print_function\n",
    "\n",
    "import os\n",
    "import sys\n",
    "import time\n",
    "import timeit\n",
    "\n",
    "\n",
    "if sys.version_info.major < 3:\n",
    "    range = xrange\n",
    "\n",
    "\n",
    "def clock_check(duration=1):\n",
    "    \"\"\"Check the measured time with different methods.\n",
    "    \"\"\"\n",
    "    start_os_time0 = os.times()[0]\n",
    "    start_time_clock = time.clock()\n",
    "    start_default_timer = timeit.default_timer()\n",
    "    for _ in range(int(1e6)):\n",
    "        1 + 1\n",
    "    time.sleep(duration)\n",
    "    durtation_os_time0 = os.times()[0] - start_os_time0\n",
    "    durtation_time_clock = time.clock() - start_time_clock\n",
    "    durtation_default_timer = timeit.default_timer() - start_default_timer\n",
    "    print('durtation_os_time0:     ', durtation_os_time0)\n",
    "    print('durtation_time_clock:   ', durtation_time_clock)\n",
    "    print('durtation_default_timer:', durtation_default_timer)\n",
    "\n",
    "\n",
    "if __name__ == '__main__':\n",
    "    clock_check()\n"
   ]
  },
  {
   "cell_type": "code",
   "execution_count": 41,
   "metadata": {
    "collapsed": false
   },
   "outputs": [
    {
     "data": {
      "text/plain": [
       "<function time.perf_counter>"
      ]
     },
     "execution_count": 41,
     "metadata": {},
     "output_type": "execute_result"
    }
   ],
   "source": [
    "timeit.default_timer"
   ]
  },
  {
   "cell_type": "code",
   "execution_count": 42,
   "metadata": {
    "collapsed": false
   },
   "outputs": [
    {
     "name": "stdout",
     "output_type": "stream",
     "text": [
      "10000000 loops, best of 3: 20.5 ns per loop\n"
     ]
    }
   ],
   "source": [
    "%timeit 1+1 "
   ]
  },
  {
   "cell_type": "code",
   "execution_count": 43,
   "metadata": {
    "collapsed": true
   },
   "outputs": [],
   "source": [
    "import time"
   ]
  },
  {
   "cell_type": "code",
   "execution_count": 45,
   "metadata": {
    "collapsed": false
   },
   "outputs": [
    {
     "name": "stdout",
     "output_type": "stream",
     "text": [
      "1 loop, best of 3: 6.08 s per loop\n"
     ]
    }
   ],
   "source": [
    "%%timeit\n",
    "## should be a millionth of second a million times = 1 second (really 6 seconds)\n",
    "for _ in range(10**6):\n",
    "    time.sleep(1e-6)"
   ]
  },
  {
   "cell_type": "code",
   "execution_count": 48,
   "metadata": {
    "collapsed": false
   },
   "outputs": [
    {
     "name": "stdout",
     "output_type": "stream",
     "text": [
      "/Users/andymaheshw/pycon2017_measure/pi\n"
     ]
    }
   ],
   "source": [
    "%cd ../pi"
   ]
  },
  {
   "cell_type": "code",
   "execution_count": 50,
   "metadata": {
    "collapsed": false
   },
   "outputs": [
    {
     "name": "stdout",
     "output_type": "stream",
     "text": [
      "pi: 3.139536\n"
     ]
    }
   ],
   "source": [
    "# %load simple_pi.py\n",
    "# file: simple_pi.py\n",
    "\n",
    "\"\"\"Calculating pi with Monte Carlo.\n",
    "\"\"\"\n",
    "\n",
    "from __future__ import print_function\n",
    "\n",
    "import math\n",
    "import random\n",
    "import sys\n",
    "\n",
    "\n",
    "if sys.version_info[0] < 3:\n",
    "    range = xrange\n",
    "\n",
    "\n",
    "def pi_plain(total):\n",
    "    \"\"\"Calculate pi with `total` hits.\n",
    "    \"\"\"\n",
    "    count_inside = 0\n",
    "    for _ in range(total):\n",
    "        x = random.random()\n",
    "        y = random.random()\n",
    "        dist = math.sqrt(x * x + y * y)\n",
    "        if dist < 1:\n",
    "            count_inside += 1\n",
    "    return 4.0 * count_inside / total\n",
    "\n",
    "if __name__ == '__main__':\n",
    "\n",
    "    def test():\n",
    "        \"\"\"Check if it works.\n",
    "        \"\"\"\n",
    "        n = int(1e6)\n",
    "        print('pi:', pi_plain(n))\n",
    "\n",
    "    test()\n"
   ]
  },
  {
   "cell_type": "code",
   "execution_count": 53,
   "metadata": {
    "collapsed": false
   },
   "outputs": [
    {
     "name": "stdout",
     "output_type": "stream",
     "text": [
      "run time 0.056187758993473835\n"
     ]
    }
   ],
   "source": [
    "# %load numpy_pi.py\n",
    "# file: numpy_pi.py\n",
    "\"\"\"Calculating pi with Monte Carlo Method and NumPy.\n",
    "\"\"\"\n",
    "\n",
    "from __future__ import print_function\n",
    "\n",
    "import numpy                                                   #1\n",
    "\n",
    "\n",
    "def pi_numpy(total):                                           #2\n",
    "    \"\"\"Compute pi.\n",
    "    \"\"\"\n",
    "    x = numpy.random.rand(total)                               #3\n",
    "    y = numpy.random.rand(total)                               #4\n",
    "    dist = numpy.sqrt(x * x + y * y)                           #5\n",
    "    count_inside = len(dist[dist < 1])                         #6\n",
    "    return 4.0 * count_inside / total\n",
    "\n",
    "if __name__ == '__main__':\n",
    "\n",
    "    def test():\n",
    "        \"\"\"Time the execution.\n",
    "        \"\"\"\n",
    "        import timeit\n",
    "        start = timeit.default_timer()\n",
    "        pi_numpy(int(1e6))\n",
    "        print('run time', timeit.default_timer() - start)\n",
    "    test()\n"
   ]
  },
  {
   "cell_type": "code",
   "execution_count": 54,
   "metadata": {
    "collapsed": true
   },
   "outputs": [],
   "source": [
    "%load_ext snakeviz"
   ]
  },
  {
   "cell_type": "code",
   "execution_count": 57,
   "metadata": {
    "collapsed": true
   },
   "outputs": [],
   "source": [
    "n = 100000"
   ]
  },
  {
   "cell_type": "code",
   "execution_count": 58,
   "metadata": {
    "collapsed": false
   },
   "outputs": [
    {
     "name": "stdout",
     "output_type": "stream",
     "text": [
      " \n",
      "*** Profile stats marshalled to file '/var/folders/gf/3tl_fl216b33yx72x1s83mkw0000gp/T/tmp08irqmet'. \n"
     ]
    }
   ],
   "source": [
    "%snakeviz pi_numpy(n)"
   ]
  },
  {
   "cell_type": "code",
   "execution_count": 59,
   "metadata": {
    "collapsed": false
   },
   "outputs": [
    {
     "name": "stdout",
     "output_type": "stream",
     "text": [
      "/Users/andymaheshw/pycon2017_measure/measuring\n"
     ]
    }
   ],
   "source": [
    "cd ../measuring/"
   ]
  },
  {
   "cell_type": "code",
   "execution_count": 60,
   "metadata": {
    "collapsed": false
   },
   "outputs": [
    {
     "data": {
      "text/plain": [
       "'/Users/andymaheshw/pycon2017_measure/measuring'"
      ]
     },
     "execution_count": 60,
     "metadata": {},
     "output_type": "execute_result"
    }
   ],
   "source": [
    "pwd"
   ]
  },
  {
   "cell_type": "code",
   "execution_count": 62,
   "metadata": {
    "collapsed": false
   },
   "outputs": [
    {
     "name": "stderr",
     "output_type": "stream",
     "text": [
      "ERROR: Line magic function `%kernprof` not found.\n"
     ]
    }
   ],
   "source": [
    "% kernprof -v -l profile_me_use_line_profiler.py"
   ]
  },
  {
   "cell_type": "code",
   "execution_count": null,
   "metadata": {
    "collapsed": true
   },
   "outputs": [],
   "source": [
    "# %load accumulate.py\n",
    "# file accumulate.py\n",
    "\n",
    "\"\"\"Simple test function for line_profiler.\n",
    "\"\"\"\n",
    "\n",
    "@profile\n",
    "def accumulate(iterable):\n",
    "    \"\"\"Accumulate the intermediate steps in summing all elements.\n",
    "\n",
    "    The result is a list with the length of `iterable`.\n",
    "    The last element is the sum of all elements of `iterable`\n",
    "    >>> accumulate(range(5))\n",
    "    [0, 1, 3, 6, 10]\n",
    "    >>> accumulate(range(10))\n",
    "    [0, 1, 3, 6, 10, 15, 21, 28, 36, 45]\n",
    "    \"\"\"\n",
    "    acm = [iterable[0]]\n",
    "    for elem in iterable[1:]:\n",
    "        old_value = acm[-1]\n",
    "        new_value = old_value + elem\n",
    "        acm.append(new_value)\n",
    "    return acm\n",
    "\n",
    "\n",
    "if __name__ == '__main__':\n",
    "    accumulate(range(10))\n",
    "    accumulate(range(100))\n"
   ]
  },
  {
   "cell_type": "code",
   "execution_count": 65,
   "metadata": {
    "collapsed": false
   },
   "outputs": [
    {
     "ename": "SyntaxError",
     "evalue": "invalid syntax (<ipython-input-65-001e0cf60262>, line 1)",
     "output_type": "error",
     "traceback": [
      "\u001b[0;36m  File \u001b[0;32m\"<ipython-input-65-001e0cf60262>\"\u001b[0;36m, line \u001b[0;32m1\u001b[0m\n\u001b[0;31m    ```\u001b[0m\n\u001b[0m    ^\u001b[0m\n\u001b[0;31mSyntaxError\u001b[0m\u001b[0;31m:\u001b[0m invalid syntax\n"
     ]
    }
   ],
   "source": [
    "```\n",
    "Total time: 0.000164 s\n",
    "File: accumulate.py\n",
    "Function: accumulate at line 6\n",
    "\n",
    "Line #      Hits         Time  Per Hit   % Time  Line Contents\n",
    "==============================================================\n",
    "     6                                           @profile\n",
    "     7                                           def accumulate(iterable):\n",
    "     8                                               \"\"\"Accumulate the intermediate steps in summing all elements.\n",
    "     9\n",
    "    10                                               The result is a list with the length of `iterable`.\n",
    "    11                                               The last element is the sum of all elements of `iterable`\n",
    "    12                                               >>> accumulate(range(5))\n",
    "    13                                               [0, 1, 3, 6, 10]\n",
    "    14                                               >>> accumulate(range(10))\n",
    "    15                                               [0, 1, 3, 6, 10, 15, 21, 28, 36, 45]\n",
    "    16                                               \"\"\"\n",
    "    17         2            5      2.5      3.0      acm = [iterable[0]]\n",
    "    18       110           41      0.4     25.0      for elem in iterable[1:]:\n",
    "    19       108           40      0.4     24.4          old_value = acm[-1]\n",
    "    20       108           33      0.3     20.1          new_value = old_value + elem\n",
    "    21       108           45      0.4     27.4          acm.append(new_value)\n",
    "    22         2            0      0.0      0.0      return acm\n",
    "```"
   ]
  },
  {
   "cell_type": "code",
   "execution_count": null,
   "metadata": {
    "collapsed": true
   },
   "outputs": [],
   "source": [
    "File: calc.py\n",
    "Function: calc at line 13\n",
    "\n",
    "Line #      Hits         Time  Per Hit   % Time  Line Contents\n",
    "==============================================================\n",
    "    13                                           @profile\n",
    "    14                                           def calc(number, loops=1000):\n",
    "    15                                               \"\"\"Do some math calculations.\n",
    "    16                                               \"\"\"\n",
    "    17         1            8      8.0      0.0      sqrt = math.sqrt\n",
    "    18    100001        34109      0.3      8.1      for x in range(loops):\n",
    "    19    100000        37120      0.4      8.8          x = number + 10\n",
    "    20    100000        37188      0.4      8.8          x = number * 10\n",
    "    21    100000        67613      0.7     16.1          x = number ** 10\n",
    "    22    100000        77917      0.8     18.5          x = pow(number, 10)\n",
    "    23    100000        49913      0.5     11.9          x = math.sqrt(number)\n",
    "    24    100000        43419      0.4     10.3          x = sqrt(number)\n",
    "    25    100000        39918      0.4      9.5          math.sqrt\n",
    "    26    100000        33404      0.3      7.9          sqrt"
   ]
  },
  {
   "cell_type": "code",
   "execution_count": 68,
   "metadata": {
    "collapsed": true
   },
   "outputs": [],
   "source": [
    "%load_ext line_profiler"
   ]
  },
  {
   "cell_type": "code",
   "execution_count": 71,
   "metadata": {
    "collapsed": false
   },
   "outputs": [],
   "source": [
    "%lprun -f use_fast -f fast use_fast()"
   ]
  },
  {
   "cell_type": "code",
   "execution_count": 74,
   "metadata": {
    "collapsed": false
   },
   "outputs": [],
   "source": [
    "# %load create_list.py\n",
    "# file: create_list.py\n",
    "\n",
    "import sys\n",
    "\n",
    "if sys.version_info.major < 3:\n",
    "    range = xrange\n",
    "\n",
    "\n",
    "def insert_zero(n=int(1e4)):\n",
    "    \"\"\"Assemble list with `insert`. Inefficient.\n",
    "    \"\"\"\n",
    "    L = []\n",
    "    for x in range(n):\n",
    "        L.insert(0, x)\n",
    "    return L\n",
    "\n",
    "\n",
    "def append_reverse(n=int(1e4)):\n",
    "    \"\"\"Assemble list with `append` and `reverse`.\n",
    "    \"\"\"\n",
    "    L = []\n",
    "    for x in range(n):\n",
    "        L.append(x)\n",
    "    L.reverse()\n",
    "    return L\n"
   ]
  },
  {
   "cell_type": "code",
   "execution_count": 79,
   "metadata": {
    "collapsed": true
   },
   "outputs": [],
   "source": [
    "%lprun?"
   ]
  },
  {
   "cell_type": "code",
   "execution_count": 82,
   "metadata": {
    "collapsed": false
   },
   "outputs": [],
   "source": [
    "%lprun -f insert_zero insert_zero()"
   ]
  },
  {
   "cell_type": "code",
   "execution_count": null,
   "metadata": {
    "collapsed": true
   },
   "outputs": [],
   "source": []
  }
 ],
 "metadata": {
  "kernelspec": {
   "display_name": "Python 3",
   "language": "python",
   "name": "python3"
  },
  "language_info": {
   "codemirror_mode": {
    "name": "ipython",
    "version": 3
   },
   "file_extension": ".py",
   "mimetype": "text/x-python",
   "name": "python",
   "nbconvert_exporter": "python",
   "pygments_lexer": "ipython3",
   "version": "3.5.1"
  }
 },
 "nbformat": 4,
 "nbformat_minor": 0
}
